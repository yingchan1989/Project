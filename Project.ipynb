{
 "cells": [
  {
   "cell_type": "markdown",
   "metadata": {},
   "source": [
    "# Project - Twitter Trades"
   ]
  },
  {
   "cell_type": "markdown",
   "metadata": {},
   "source": [
    "Group: Individual (Ying Chan)\n",
    "\n",
    "\n",
    "Project Proposal:\n",
    "The objective of this project would be to leverage tweets in Twitter related to individual stocks to analyze what factors attribute to each individual stock's movements (both up and down). With these factors, I am aiming to build an algorithm that can potentially flag potential up and down movements based on new tweets, and invest/capture this. A secondary objective would be to generate a return on this and benchmark this against a risk free rate or SPY (ETF for S&P 500) returns. \n",
    "\n",
    "Challenge:\n",
    "This is an important and challenging concept as there are multiple strategies on the market which aims to \"beat the market\", though many were unable to do so. The hypothesis is that there might be too much noise within the market that might skew results, and the aim of the project is to explore this and hope to investigate on this matter.\n",
    "\n",
    "\n",
    "Data Sources:\n",
    "The data source will be Twitter tweets API in general. We will combine this data set with the stock price data obtained preferrably by the minute or 5-minute intervals. The stock return will be calculated and tagged against tweets.\n",
    "\n",
    "Objective:\n",
    "The ultimate objective is to create a natural language processing algorithm which will create feature extractions from tweets that help explain siginificant movement in stock prices. For example, certain tweets such as \"price gouging\" might affect a pharmaceutical drug stock. \n",
    "\n",
    "Evaluate:\n",
    "The evaluation technique for this type of model is quite high given the nature of the project, which is to see if certain tweets will be able to predict future moves that are significant. For example, if a tweet relating to \"drug price\" against this stock (or even other stocks) that causes the model to predict a movement does indeed predict a movement. The magnitude of movement is not an important measure here, though the direction is important. Another metric that can be measured will be a model portfolio performance using this algorithm, whether it will \"beat\" a traditional risk free rate return."
   ]
  },
  {
   "cell_type": "markdown",
   "metadata": {},
   "source": [
    "Start with loading all stocks in the S&P 500 into a dataframe. "
   ]
  },
  {
   "cell_type": "code",
   "execution_count": 5,
   "metadata": {
    "collapsed": false
   },
   "outputs": [],
   "source": [
    "snp500 = pd.read_csv('snp500.csv', header=0)"
   ]
  },
  {
   "cell_type": "markdown",
   "metadata": {},
   "source": [
    "Load Tweepy library and start collecting search terms based on stocks in the S&P500. We start with a specific stock $RDUS for testing purposes of the algorithm. "
   ]
  },
  {
   "cell_type": "code",
   "execution_count": 13,
   "metadata": {
    "collapsed": false,
    "scrolled": true
   },
   "outputs": [],
   "source": [
    "import tweepy\n",
    "import csv\n",
    "import pandas as pd\n",
    "\n",
    "consumer_key=\"LX38iNoplbbMid20arGtsivQh\"\n",
    "consumer_secret=\"w1KQHobzm77FFdVMHIzHJJPPaPrHdx53e2Dq8CnuOwh0yr7luD\"\n",
    "\n",
    "access_token=\"268119650-HPK3lM3WSCnDAvl8d7PDmxwcWcRDC1XUZYr77doh\"\n",
    "access_token_secret=\"tu4UNdMdCWh0E7AuduS3EI2xliPSUv1TXTqPCj3NuglFb\"\n",
    "\n",
    "auth = tweepy.OAuthHandler(consumer_key, consumer_secret)\n",
    "auth.set_access_token(access_token, access_token_secret)\n",
    "\n",
    "api = tweepy.API(auth)"
   ]
  },
  {
   "cell_type": "markdown",
   "metadata": {},
   "source": [
    "For each stock in the S&P500 (we will limit to 300 first due to the Twitter API not allowing for more than a few hundred API calls per hour), we will search the Twitter API for tweets that are filtered by a \"$\" followed by the ticker symbol. The results are stored into a CSV file."
   ]
  },
  {
   "cell_type": "code",
   "execution_count": 29,
   "metadata": {
    "collapsed": false
   },
   "outputs": [],
   "source": [
    "for i in range(0,100):\n",
    "    ticker = snp500.loc[snp500.index[i], 'Ticker symbol']\n",
    "    search_ticker = \"$\" + ticker\n",
    "    csv_ticker = ticker + \".csv\"\n",
    "    \n",
    "    #find the latest date for the last tweet stored for each stock\n",
    "    #tweet_latest_date = pd.read_csv(csv_ticker, header=None)\n",
    "    #date = pd.to_datetime(tweet_latest_date.tail(1)[0]).iloc[0]\n",
    "    \n",
    "    #query twitter api to obtain tweet results\n",
    "    results = api.search(q=search_ticker, count=10000 , include_entities=True, lang=\"en\", since_id=2016-11-11)\n",
    "\n",
    "    #write to csv file and append new tweets\n",
    "    with open(csv_ticker, 'wb') as csvfile:\n",
    "        writer = csv.writer(csvfile)\n",
    "        for result in results:\n",
    "            writer.writerow([result.created_at, unicode(result.text).encode(\"utf-8\") ])"
   ]
  },
  {
   "cell_type": "code",
   "execution_count": 6,
   "metadata": {
    "collapsed": false
   },
   "outputs": [],
   "source": [
    "#split into multiple loops to get around \"Rate Limit Exceeded\" error message on twitter api. Rerun after 1 hour.\n",
    "for i in range(100, len(snp500)):\n",
    "    ticker = snp500.loc[snp500.index[i], 'Ticker symbol']\n",
    "    search_ticker = \"$\" + ticker\n",
    "    csv_ticker = ticker + \".csv\"\n",
    "    \n",
    "    #find the latest date for the last tweet stored for each stock\n",
    "    #tweet_latest_date = pd.read_csv(csv_ticker, header=None)\n",
    "    #date = pd.to_datetime(tweet_latest_date.tail(1)[0]).iloc[0]\n",
    "    \n",
    "    #query twitter api to obtain tweet results\n",
    "    results = api.search(q=search_ticker, count=1000 , include_entities=True, lang=\"en\", since_id=2016-11-11)\n",
    "\n",
    "    #write to csv file and append new tweets\n",
    "    with open(csv_ticker, 'wb') as csvfile:\n",
    "        writer = csv.writer(csvfile)\n",
    "        for result in results:\n",
    "            writer.writerow([result.created_at, unicode(result.text).encode(\"utf-8\") ])"
   ]
  },
  {
   "cell_type": "markdown",
   "metadata": {
    "collapsed": true
   },
   "source": [
    "We create a process tweet function to make all the words lower case and convert any hastags into normal words. This will help with pre-processing the tweet and improving the NLP model."
   ]
  },
  {
   "cell_type": "code",
   "execution_count": 30,
   "metadata": {
    "collapsed": false
   },
   "outputs": [],
   "source": [
    "import re\n",
    "\n",
    "#Perform basic pre-processing of tweet to improve our NLP model\n",
    "def preprocess_tweet(tweet):\n",
    "    #Lower case all words\n",
    "    tweet = tweet.lower()\n",
    "    #Remove URL strings\n",
    "    tweet = re.sub('((www\\.[^\\s]+)|(https?://[^\\s]+))','URL',tweet)\n",
    "    #Remove double spacing\n",
    "    tweet = re.sub('[\\s]+', ' ', tweet)\n",
    "    #Remove usernames\n",
    "    tweet = re.sub('@[^\\s]+','TWITTER_USER_NAME',tweet)\n",
    "    #Remove hashtags\n",
    "    tweet = re.sub(r'#([^\\s]+)', r'\\1', tweet)\n",
    "    tweet = tweet.strip('\\'\"')\n",
    "    #strip punctuation\n",
    "    return tweet"
   ]
  },
  {
   "cell_type": "markdown",
   "metadata": {},
   "source": [
    "Read CSV data from tweets and stocks to merge and append to dataframe. We also create a function to find the closest date and apply to existing panda dataframes to join the tweets data to the stock data. We keep the tweets data as the left dataframe as this is the data that is of interest. If there is no tweet, there is no need to observe stock data. We attempt to fit a traditional Gaussian Naive Bayes prediction model based on the occurence of words within the tweet to start, but will do so with individual models. We use the metric of accuracy (i.e. how many % the test data does the direction of the stock in the next 5 minute get predicted correctly) to assess the model for starter. "
   ]
  },
  {
   "cell_type": "code",
   "execution_count": 47,
   "metadata": {
    "collapsed": false
   },
   "outputs": [],
   "source": [
    "import pandas as pd\n",
    "import numpy as np\n",
    "\n",
    "import re, nltk\n",
    "from sklearn.feature_extraction.text import CountVectorizer        \n",
    "from nltk.stem.porter import PorterStemmer\n",
    "from sklearn.naive_bayes import GaussianNB\n",
    "from sklearn.cross_validation import train_test_split\n",
    "from sklearn.metrics import accuracy_score\n",
    "\n",
    "def find_closest_date(timepoint, time_series, add_time_delta_column=True):\n",
    "    deltas = np.abs(time_series - timepoint)\n",
    "    idx_closest_date = np.argmin(deltas)\n",
    "    res = {\"closest_date\": time_series.ix[idx_closest_date]}\n",
    "    idx = ['closest_date']\n",
    "    if add_time_delta_column:\n",
    "        res[\"closest_delta\"] = deltas[idx_closest_date]\n",
    "        idx.append('closest_delta')\n",
    "    return pd.Series(res, index=idx)\n",
    "\n",
    "#Create functions for tokenize and stemming and the count vectorizer\n",
    "stemmer = PorterStemmer()\n",
    "def stem_tokens(tokens, stemmer):\n",
    "    stemmed = []\n",
    "    for item in tokens:\n",
    "        stemmed.append(stemmer.stem(item))\n",
    "    return stemmed\n",
    "\n",
    "def tokenize(text):\n",
    "    text = re.sub(\"[^a-zA-Z]\", \" \", text)\n",
    "    tokens = nltk.word_tokenize(text)\n",
    "    stems = stem_tokens(tokens, stemmer)\n",
    "    return stems\n",
    "\n",
    "vectorizer = CountVectorizer(\n",
    "    analyzer = 'word',\n",
    "    tokenizer = tokenize,\n",
    "    lowercase = True,\n",
    "    stop_words = 'english',\n",
    "    max_features = 85\n",
    ")\n",
    "\n",
    "import nltk.data\n",
    "tokenizer = nltk.data.load('nltk:tokenizers/punkt/english.pickle')\n",
    "\n",
    "indep_model_accuracy = []\n",
    "indep_model_return = []\n",
    "\n",
    "for i in range(0,100):\n",
    "    ticker = snp500.loc[snp500.index[i], 'Ticker symbol']\n",
    "    tweet_csv = ticker +'.csv'\n",
    "    stock_csv = ticker +'.us.txt'\n",
    "    tweets = pd.read_csv(tweet_csv, header=None)\n",
    "    stocks = pd.read_csv(stock_csv)\n",
    "    tweets.columns = ['timestamp', 'tweet']\n",
    "\n",
    "    stocks['Timestamp'] = stocks.Date.astype(str).str.cat(stocks.Time.astype(str), sep=' ')\n",
    "\n",
    "    #Convert to pandas date time format\n",
    "    stocks['Timestamp'] = pd.to_datetime(stocks['Timestamp']) \n",
    "    tweets['timestamp'] = pd.to_datetime(tweets['timestamp']) \n",
    "\n",
    "    stocks['PreviousClose'] = stocks.Close.shift(1)\n",
    "    stocks['Return'] = (stocks.Close/stocks.PreviousClose)-1\n",
    "    \n",
    "    tweets[['closest_timestamp', 'diff']] = tweets.timestamp.apply(\n",
    "                                          find_closest_date, args=[stocks.Timestamp])\n",
    "\n",
    "    combined = pd.merge(tweets, stocks, left_on=['closest_timestamp'], right_on=['Timestamp'])\n",
    "    combined['Prediction_Class'] = np.where(combined['Return']>0, 'Up', 'Down')\n",
    "    corpus_data_features = vectorizer.fit_transform(combined.tweet.tolist())\n",
    "    corpus_data_features_nd = corpus_data_features.toarray()\n",
    "    \n",
    "    #Break out of loop if the stock does not have historical \n",
    "    if combined.Close.iloc[0]==combined.Close.iloc[len(combined)-1]:\n",
    "        continue\n",
    "    \n",
    "    X_train, X_test, y_train, y_test  = train_test_split(\n",
    "        corpus_data_features_nd[0:len(combined)], \n",
    "        combined.Prediction_Class,\n",
    "        train_size=0.85)\n",
    "\n",
    "    gnb_model = GaussianNB()\n",
    "    gnb_model = gnb_model.fit(X=X_train, y=y_train)\n",
    "    \n",
    "    y_test_final = pd.Series.tolist(y_test)\n",
    "    y_pred = gnb_model.predict(X_test)\n",
    "    accuracy = accuracy_score(y_test_final, y_pred)\n",
    "    \n",
    "    stock_return = 1\n",
    "    \n",
    "    for i in (0, len(y_pred)-1):\n",
    "        if y_pred[i] == \"Up\":\n",
    "            stock_return = stock_return * (1 + combined['Return'][i])\n",
    "    \n",
    "    indep_model_return.append(stock_return)\n",
    "    \n",
    "    indep_model_accuracy.append(accuracy)\n",
    "    #print \"Ticker: %s, Accuracy: %f\" % (ticker, accuracy)\n"
   ]
  },
  {
   "cell_type": "markdown",
   "metadata": {
    "collapsed": true
   },
   "source": [
    "Helper function created below to observe the occurence of words in the tweet. This will be useful for digging deeper into."
   ]
  },
  {
   "cell_type": "code",
   "execution_count": 48,
   "metadata": {
    "collapsed": false
   },
   "outputs": [
    {
     "name": "stdout",
     "output_type": "stream",
     "text": [
      "4 activ\n",
      "4 alert\n",
      "6 amp\n",
      "8 analysi\n",
      "6 announc\n",
      "4 aukz\n",
      "4 b\n",
      "4 bhi\n",
      "6 board\n",
      "4 bullish\n",
      "6 chang\n",
      "4 check\n",
      "33 chesapeak\n",
      "14 chesapeakeenergi\n",
      "102 chk\n",
      "18 corp\n",
      "13 corpor\n",
      "6 csco\n",
      "4 dec\n",
      "4 decemb\n",
      "8 director\n",
      "3 dwm\n",
      "4 eca\n",
      "33 energi\n",
      "3 f\n",
      "3 fb\n",
      "7 fcx\n",
      "8 firm\n",
      "7 free\n",
      "3 g\n",
      "4 good\n",
      "4 gvmdw\n",
      "98 http\n",
      "5 import\n",
      "7 invest\n",
      "5 investor\n",
      "8 ladenburg\n",
      "8 law\n",
      "6 logo\n",
      "4 look\n",
      "9 m\n",
      "7 market\n",
      "6 mro\n",
      "3 msft\n",
      "10 new\n",
      "4 news\n",
      "3 nvda\n",
      "3 o\n",
      "7 oil\n",
      "3 orcl\n",
      "11 p\n",
      "7 price\n",
      "6 pt\n",
      "3 qqq\n",
      "7 rais\n",
      "3 rbi\n",
      "14 read\n",
      "8 remind\n",
      "3 rig\n",
      "8 rosen\n",
      "4 rpeahbzz\n",
      "12 rt\n",
      "14 s\n",
      "5 sell\n",
      "4 sentiment\n",
      "7 share\n",
      "12 stock\n",
      "107 t\n",
      "5 target\n",
      "3 tech\n",
      "8 thalmann\n",
      "6 thi\n",
      "4 time\n",
      "4 tool\n",
      "14 trade\n",
      "4 unveil\n",
      "3 uri\n",
      "4 v\n",
      "4 vale\n",
      "4 video\n",
      "6 week\n",
      "4 weekend\n",
      "7 weekli\n",
      "6 wll\n",
      "5 y\n"
     ]
    }
   ],
   "source": [
    "vocab = vectorizer.get_feature_names()\n",
    "dist = np.sum(corpus_data_features_nd, axis=0)\n",
    "for tag, count in zip(vocab, dist):\n",
    "    print count, tag"
   ]
  },
  {
   "cell_type": "markdown",
   "metadata": {},
   "source": [
    "Plot histogram of the accuracy for each of the 500 stocks in S&P 500. Given the limitation of the Twitter API limiting the number of returns, we will not be able to asssess stocks that returns tweets only in the past few days (especially during weekends), as the stock price does not move. This resulted in stocks being predicted to go \"Up\", as our definiton of a stock price going up includes a flatline move. We plot this result in a histogram to see our assessment. "
   ]
  },
  {
   "cell_type": "code",
   "execution_count": 52,
   "metadata": {
    "collapsed": false
   },
   "outputs": [
    {
     "data": {
      "image/png": "[encoded data removed]",
      "text/plain": [
       "<matplotlib.figure.Figure at 0x1128885d0>"
      ]
     },
     "metadata": {},
     "output_type": "display_data"
    }
   ],
   "source": [
    "%matplotlib inline\n",
    "import matplotlib.pyplot as plt\n",
    "plt.hist(indep_model_accuracy)\n",
    "plt.title(\"Histogram of accuracy for all available S&P500 stock\")\n",
    "plt.xlabel(\"Accuracy Ratio\")\n",
    "plt.ylabel(\"Frequency\")\n",
    "plt.show()"
   ]
  },
  {
   "cell_type": "markdown",
   "metadata": {},
   "source": [
    "Although this provides one metric of accuracy, we also want to see the magnitude of each of the predictions although the model is not required to predict this. We will match the return for each of the accurate predictions, and provide the opposite return metric for the wrong prediction. We will first go with a long-short strategy (which means if the model predicts a down move, then the stock is shorted, providing a negative of the return during the time period). If the stock actually goes down (i.e. a correct prediction), then the resulting return will be positive and additive to returns. Otherwise, the counter is true. \n",
    "\n",
    "Below shows a histogram of the returns for the stocks in question above."
   ]
  },
  {
   "cell_type": "code",
   "execution_count": 51,
   "metadata": {
    "collapsed": false
   },
   "outputs": [
    {
     "data": {
      "image/png": "[encoded data removed]",
      "text/plain": [
       "<matplotlib.figure.Figure at 0x112e85710>"
      ]
     },
     "metadata": {},
     "output_type": "display_data"
    }
   ],
   "source": [
    "%matplotlib inline\n",
    "import matplotlib.pyplot as plt\n",
    "plt.hist(indep_model_return)\n",
    "plt.title(\"Histogram of return for all available S&P500 stock\")\n",
    "plt.xlabel(\"Return\")\n",
    "plt.ylabel(\"Frequency\")\n",
    "plt.show()"
   ]
  },
  {
   "cell_type": "markdown",
   "metadata": {},
   "source": [
    "Note that there is significant concentration around the 1.000 return range, i.e. meaning that there is no return. However, we need to keep in mind that we are looking at 5 minute interval data, and only within the test sample (15%) of any tweet. There appears to be some slight upward bias, which could potentially suggest that the model is performing to some degree (albeit tiny). We do not believe a test of significance of the average away from the zero (no return) to be relevant for our case despite many financial literature. "
   ]
  },
  {
   "cell_type": "code",
   "execution_count": null,
   "metadata": {
    "collapsed": true
   },
   "outputs": [],
   "source": []
  }
 ],
 "metadata": {
  "kernelspec": {
   "display_name": "Python 2",
   "language": "python",
   "name": "python2"
  },
  "language_info": {
   "codemirror_mode": {
    "name": "ipython",
    "version": 2
   },
   "file_extension": ".py",
   "mimetype": "text/x-python",
   "name": "python",
   "nbconvert_exporter": "python",
   "pygments_lexer": "ipython2",
   "version": "2.7.8"
  }
 },
 "nbformat": 4,
 "nbformat_minor": 0
}
