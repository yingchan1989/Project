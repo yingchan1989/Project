{
 "cells": [
  {
   "cell_type": "markdown",
   "metadata": {},
   "source": [
    "# Project - Twitter Trades"
   ]
  },
  {
   "cell_type": "markdown",
   "metadata": {},
   "source": [
    "Group: Individual (Ying Chan)"
   ]
  },
  {
   "cell_type": "markdown",
   "metadata": {},
   "source": [
    "# Abstract"
   ]
  },
  {
   "cell_type": "markdown",
   "metadata": {},
   "source": [
    "In this paper, we will leverage tweets in Twitter related to individual stocks to analyze what factors attribute to each individual stock's movements (both up and down). With these factors, along with Natural Language Proessing, we build an algorithm that can potentially flag potential up and down movements based on new tweets, and invest/capture this. We implement a few naive portfolio management strategies including long-short portfolio strategies, or long only strategies and compare the returns. We also use accuracy metrics to determine whether the prediction is correct for each time interval. "
   ]
  },
  {
   "cell_type": "markdown",
   "metadata": {},
   "source": [
    "# Introduction"
   ]
  },
  {
   "cell_type": "markdown",
   "metadata": {},
   "source": [
    "Stock market prediction has been around for a long period of time. However, most literature attempts to predict the actual returns of the stock, however, we believe that there is too much information and noise for the model to correctly predict a return, for example Stock Prediction Using Twitter Sentiment Analysis by Anshul Mittal/Arpit Goel[1]. However, we believe tweets can be used to predict a movement in the upward or downward direction. We use the direction as up and down as proxies of \"sentiment\" and use the model to predict whether the stock would most likely trend up or down in a set time frame. In this paper, we will look at short time intervals of 5 minutes. \n"
   ]
  },
  {
   "cell_type": "markdown",
   "metadata": {},
   "source": [
    "# Data Sources"
   ]
  },
  {
   "cell_type": "markdown",
   "metadata": {},
   "source": [
    "We will obtain stock price data obtained at 5-minute intervals from Stooq.com. We will be looking at the S&P500 stocks, and will observe the open and close for each time interval to determine the return. \n",
    "\n",
    "For the tweets, we will be leveraging the Twitter API, filtered by the stock symbol. The time frame will be as far back as possible. However there are limitations of the use of the Twitter API. Although we have developed code to append and collect Twitter data, time constraints and the limited use of the API poses problems in the short time frame of an assignment which involves designing/testing. Regardless, we managed to collect some data and produce meaningful results.\n",
    "\n",
    "With the twitter data, we join this with the 5 minute interval return data computed from the stock price data for each of the stocks in the S&P500. Using the direction of the return, we are able to assign each tweet a sentiment, namely up or down. We believe further granularity of the sentiment will pose noise in the model, and we believe up and down movements is sufficient to produce a meaningful portfolio strategy. \n",
    "\n"
   ]
  },
  {
   "cell_type": "markdown",
   "metadata": {},
   "source": [
    "# Model"
   ]
  },
  {
   "cell_type": "markdown",
   "metadata": {},
   "source": [
    "Start with loading all stocks in the S&P 500 into a dataframe. "
   ]
  },
  {
   "cell_type": "code",
   "execution_count": 136,
   "metadata": {
    "collapsed": false
   },
   "outputs": [
    {
     "name": "stdout",
     "output_type": "stream",
     "text": [
      "  Ticker symbol             Security             GICS Sector  \\\n",
      "0           MMM           3M Company             Industrials   \n",
      "1           ABT  Abbott Laboratories             Health Care   \n",
      "2          ABBV               AbbVie             Health Care   \n",
      "3           ACN        Accenture plc  Information Technology   \n",
      "4          ATVI  Activision Blizzard  Information Technology   \n",
      "\n",
      "                GICS Sub Industry  \n",
      "0        Industrial Conglomerates  \n",
      "1           Health Care Equipment  \n",
      "2                 Pharmaceuticals  \n",
      "3  IT Consulting & Other Services  \n",
      "4     Home Entertainment Software  \n"
     ]
    }
   ],
   "source": [
    "snp500 = pd.read_csv('snp500.csv', header=0)\n",
    "print snp500[:5]"
   ]
  },
  {
   "cell_type": "markdown",
   "metadata": {},
   "source": [
    "Load Tweepy library and start collecting search terms based on stocks in the S&P500. We start with a specific stock $RDUS for testing purposes of the algorithm. "
   ]
  },
  {
   "cell_type": "code",
   "execution_count": 13,
   "metadata": {
    "collapsed": false,
    "scrolled": true
   },
   "outputs": [],
   "source": [
    "import tweepy\n",
    "import csv\n",
    "import pandas as pd\n",
    "\n",
    "consumer_key=\"LX38iNoplbbMid20arGtsivQh\"\n",
    "consumer_secret=\"w1KQHobzm77FFdVMHIzHJJPPaPrHdx53e2Dq8CnuOwh0yr7luD\"\n",
    "\n",
    "access_token=\"268119650-HPK3lM3WSCnDAvl8d7PDmxwcWcRDC1XUZYr77doh\"\n",
    "access_token_secret=\"tu4UNdMdCWh0E7AuduS3EI2xliPSUv1TXTqPCj3NuglFb\"\n",
    "\n",
    "auth = tweepy.OAuthHandler(consumer_key, consumer_secret)\n",
    "auth.set_access_token(access_token, access_token_secret)\n",
    "\n",
    "api = tweepy.API(auth)"
   ]
  },
  {
   "cell_type": "markdown",
   "metadata": {},
   "source": [
    "For each stock in the S&P500 (we will limit to 100 first due to the Twitter API not allowing for more than a few hundred API calls per hour), we will search the Twitter API for tweets that are filtered by a \"$\" followed by the ticker symbol. The results are stored into a CSV file."
   ]
  },
  {
   "cell_type": "code",
   "execution_count": 29,
   "metadata": {
    "collapsed": false
   },
   "outputs": [],
   "source": [
    "for i in range(0,100):\n",
    "    ticker = snp500.loc[snp500.index[i], 'Ticker symbol']\n",
    "    search_ticker = \"$\" + ticker\n",
    "    csv_ticker = ticker + \".csv\"\n",
    "    \n",
    "    #find the latest date for the last tweet stored for each stock\n",
    "    #tweet_latest_date = pd.read_csv(csv_ticker, header=None)\n",
    "    #date = pd.to_datetime(tweet_latest_date.tail(1)[0]).iloc[0]\n",
    "    \n",
    "    #query twitter api to obtain tweet results\n",
    "    results = api.search(q=search_ticker, count=10000 , include_entities=True, lang=\"en\", since_id=2016-11-11)\n",
    "\n",
    "    #write to csv file and append new tweets\n",
    "    with open(csv_ticker, 'wb') as csvfile:\n",
    "        writer = csv.writer(csvfile)\n",
    "        for result in results:\n",
    "            writer.writerow([result.created_at, unicode(result.text).encode(\"utf-8\") ])"
   ]
  },
  {
   "cell_type": "code",
   "execution_count": 64,
   "metadata": {
    "collapsed": false
   },
   "outputs": [],
   "source": [
    "#split into multiple loops to get around \"Rate Limit Exceeded\" error message on twitter api. Rerun after 1 hour.\n",
    "for i in range(100, 200):\n",
    "    ticker = snp500.loc[snp500.index[i], 'Ticker symbol']\n",
    "    search_ticker = \"$\" + ticker\n",
    "    csv_ticker = ticker + \".csv\"\n",
    "    \n",
    "    #find the latest date for the last tweet stored for each stock\n",
    "    #tweet_latest_date = pd.read_csv(csv_ticker, header=None)\n",
    "    #date = pd.to_datetime(tweet_latest_date.tail(1)[0]).iloc[0]\n",
    "    \n",
    "    #query twitter api to obtain tweet results\n",
    "    results = api.search(q=search_ticker, count=1000 , include_entities=True, lang=\"en\", since_id=2016-11-11)\n",
    "\n",
    "    #write to csv file and append new tweets\n",
    "    with open(csv_ticker, 'wb') as csvfile:\n",
    "        writer = csv.writer(csvfile)\n",
    "        for result in results:\n",
    "            writer.writerow([result.created_at, unicode(result.text).encode(\"utf-8\") ])"
   ]
  },
  {
   "cell_type": "code",
   "execution_count": 75,
   "metadata": {
    "collapsed": true
   },
   "outputs": [],
   "source": [
    "for i in range(200, 300):\n",
    "    ticker = snp500.loc[snp500.index[i], 'Ticker symbol']\n",
    "    search_ticker = \"$\" + ticker\n",
    "    csv_ticker = ticker + \".csv\"\n",
    "    \n",
    "    #find the latest date for the last tweet stored for each stock\n",
    "    #tweet_latest_date = pd.read_csv(csv_ticker, header=None)\n",
    "    #date = pd.to_datetime(tweet_latest_date.tail(1)[0]).iloc[0]\n",
    "    \n",
    "    #query twitter api to obtain tweet results\n",
    "    results = api.search(q=search_ticker, count=1000 , include_entities=True, lang=\"en\", since_id=2016-11-11)\n",
    "\n",
    "    #write to csv file and append new tweets\n",
    "    with open(csv_ticker, 'wb') as csvfile:\n",
    "        writer = csv.writer(csvfile)\n",
    "        for result in results:\n",
    "            writer.writerow([result.created_at, unicode(result.text).encode(\"utf-8\") ])"
   ]
  },
  {
   "cell_type": "code",
   "execution_count": 101,
   "metadata": {
    "collapsed": false
   },
   "outputs": [],
   "source": [
    "for i in range(300, 400):\n",
    "    ticker = snp500.loc[snp500.index[i], 'Ticker symbol']\n",
    "    search_ticker = \"$\" + ticker\n",
    "    csv_ticker = ticker + \".csv\"\n",
    "    \n",
    "    #find the latest date for the last tweet stored for each stock\n",
    "    #tweet_latest_date = pd.read_csv(csv_ticker, header=None)\n",
    "    #date = pd.to_datetime(tweet_latest_date.tail(1)[0]).iloc[0]\n",
    "    \n",
    "    #query twitter api to obtain tweet results\n",
    "    results = api.search(q=search_ticker, count=1000 , include_entities=True, lang=\"en\", since_id=2016-11-11)\n",
    "\n",
    "    #write to csv file and append new tweets\n",
    "    with open(csv_ticker, 'wb') as csvfile:\n",
    "        writer = csv.writer(csvfile)\n",
    "        for result in results:\n",
    "            writer.writerow([result.created_at, unicode(result.text).encode(\"utf-8\") ])"
   ]
  },
  {
   "cell_type": "code",
   "execution_count": null,
   "metadata": {
    "collapsed": true
   },
   "outputs": [],
   "source": [
    "for i in range(400, 500):\n",
    "    ticker = snp500.loc[snp500.index[i], 'Ticker symbol']\n",
    "    search_ticker = \"$\" + ticker\n",
    "    csv_ticker = ticker + \".csv\"\n",
    "    \n",
    "    #find the latest date for the last tweet stored for each stock\n",
    "    #tweet_latest_date = pd.read_csv(csv_ticker, header=None)\n",
    "    #date = pd.to_datetime(tweet_latest_date.tail(1)[0]).iloc[0]\n",
    "    \n",
    "    #query twitter api to obtain tweet results\n",
    "    results = api.search(q=search_ticker, count=1000 , include_entities=True, lang=\"en\", since_id=2016-11-11)\n",
    "\n",
    "    #write to csv file and append new tweets\n",
    "    with open(csv_ticker, 'wb') as csvfile:\n",
    "        writer = csv.writer(csvfile)\n",
    "        for result in results:\n",
    "            writer.writerow([result.created_at, unicode(result.text).encode(\"utf-8\") ])"
   ]
  },
  {
   "cell_type": "markdown",
   "metadata": {
    "collapsed": true
   },
   "source": [
    "We create a process tweet function to make all the words lower case and convert any hastags into normal words. This will help with pre-processing the tweet and improving the NLP model."
   ]
  },
  {
   "cell_type": "code",
   "execution_count": null,
   "metadata": {
    "collapsed": false
   },
   "outputs": [],
   "source": [
    "import re\n",
    "\n",
    "#Perform basic pre-processing of tweet to improve our NLP model\n",
    "def preprocess_tweet(tweet):\n",
    "    #Lower case all words\n",
    "    tweet = tweet.lower()\n",
    "    #Remove URL strings\n",
    "    tweet = re.sub('((www\\.[^\\s]+)|(https?://[^\\s]+))','URL',tweet)\n",
    "    #Remove double spacing\n",
    "    tweet = re.sub('[\\s]+', ' ', tweet)\n",
    "    #Remove usernames\n",
    "    tweet = re.sub('@[^\\s]+','TWITTER_USER_NAME',tweet)\n",
    "    #Remove hashtags\n",
    "    tweet = re.sub(r'#([^\\s]+)', r'\\1', tweet)\n",
    "    tweet = tweet.strip('\\'\"')\n",
    "    #strip punctuation\n",
    "    return tweet"
   ]
  },
  {
   "cell_type": "markdown",
   "metadata": {},
   "source": [
    "Read CSV data from tweets and stocks to merge and append to dataframe. We also create a function to find the closest date and apply to existing panda dataframes to join the tweets data to the stock data. We keep the tweets data as the left dataframe as this is the data that is of interest. If there is no tweet, there is no need to observe stock data. We attempt to fit a traditional Gaussian Naive Bayes prediction model based on the occurence of words within the tweet to start, but will do so with individual models. We use the metric of accuracy (i.e. how many % the test data does the direction of the stock in the next 5 minute get predicted correctly) to assess the model for starter. "
   ]
  },
  {
   "cell_type": "code",
   "execution_count": 226,
   "metadata": {
    "collapsed": false
   },
   "outputs": [],
   "source": [
    "import pandas as pd\n",
    "import numpy as np\n",
    "\n",
    "import re, nltk\n",
    "from sklearn.feature_extraction.text import CountVectorizer        \n",
    "from nltk.stem.porter import PorterStemmer\n",
    "from sklearn.naive_bayes import GaussianNB\n",
    "from sklearn.cross_validation import train_test_split\n",
    "from sklearn.metrics import accuracy_score\n",
    "\n",
    "def find_closest_date(timepoint, time_series, add_time_delta_column=True):\n",
    "    deltas = np.abs(time_series - timepoint)\n",
    "    idx_closest_date = np.argmin(deltas)\n",
    "    res = {\"closest_date\": time_series.ix[idx_closest_date]}\n",
    "    idx = ['closest_date']\n",
    "    if add_time_delta_column:\n",
    "        res[\"closest_delta\"] = deltas[idx_closest_date]\n",
    "        idx.append('closest_delta')\n",
    "    return pd.Series(res, index=idx)\n",
    "\n",
    "#Create functions for tokenize and stemming and the count vectorizer\n",
    "stemmer = PorterStemmer()\n",
    "def stem_tokens(tokens, stemmer):\n",
    "    stemmed = []\n",
    "    for item in tokens:\n",
    "        stemmed.append(stemmer.stem(item))\n",
    "    return stemmed\n",
    "\n",
    "def tokenize(text):\n",
    "    text = re.sub(\"[^a-zA-Z]\", \" \", text)\n",
    "    tokens = nltk.word_tokenize(text)\n",
    "    stems = stem_tokens(tokens, stemmer)\n",
    "    return stems\n",
    "\n",
    "vectorizer = CountVectorizer(\n",
    "    analyzer = 'word',\n",
    "    tokenizer = tokenize,\n",
    "    lowercase = True,\n",
    "    stop_words = 'english',\n",
    "    max_features = 85\n",
    ")\n",
    "\n",
    "import nltk.data\n",
    "tokenizer = nltk.data.load('nltk:tokenizers/punkt/english.pickle')\n",
    "\n",
    "indep_model_accuracy = []\n",
    "indep_model_return = []\n",
    "indep_model_ls_return = []\n",
    "\n",
    "for i in range(0,300):\n",
    "    ticker = snp500.loc[snp500.index[i], 'Ticker symbol']\n",
    "    tweet_csv = ticker +'.csv'\n",
    "    stock_csv = ticker +'.us.txt'\n",
    "    tweets = pd.read_csv(tweet_csv, header=None)\n",
    "    stocks = pd.read_csv(stock_csv)\n",
    "    tweets.columns = ['timestamp', 'tweet']\n",
    "\n",
    "    stocks['Timestamp'] = stocks.Date.astype(str).str.cat(stocks.Time.astype(str), sep=' ')\n",
    "\n",
    "    #Convert to pandas date time format\n",
    "    stocks['Timestamp'] = pd.to_datetime(stocks['Timestamp']) \n",
    "    tweets['timestamp'] = pd.to_datetime(tweets['timestamp']) \n",
    "\n",
    "    stocks['PreviousClose'] = stocks.Close.shift(1)\n",
    "    stocks['Return'] = (stocks.Close/stocks.PreviousClose)-1\n",
    "    \n",
    "    tweets[['closest_timestamp', 'diff']] = tweets.timestamp.apply(\n",
    "                                          find_closest_date, args=[stocks.Timestamp])\n",
    "\n",
    "    combined = pd.merge(tweets, stocks, left_on=['closest_timestamp'], right_on=['Timestamp'])\n",
    "    combined['Prediction_Class'] = np.where(combined['Return']>0, 'Up', 'Down')\n",
    "    corpus_data_features = vectorizer.fit_transform(combined.tweet.tolist())\n",
    "    corpus_data_features_nd = corpus_data_features.toarray()\n",
    "    \n",
    "    #Break out of loop if the stock does not have historical tweets. This will be flagged based on if the close price\n",
    "    #is exactly the same as the last close price on the last tweet.\n",
    "    if combined.Close.iloc[0]==combined.Close.iloc[len(combined)-1]:\n",
    "        continue\n",
    "    \n",
    "    X_train, X_test, y_train, y_test  = train_test_split(\n",
    "        corpus_data_features_nd[0:len(combined)], \n",
    "        combined.Prediction_Class,\n",
    "        train_size=0.85)\n",
    "\n",
    "    gnb_model = GaussianNB()\n",
    "    gnb_model = gnb_model.fit(X=X_train, y=y_train)\n",
    "    \n",
    "    y_test_final = pd.Series.tolist(y_test)\n",
    "    y_pred = gnb_model.predict(X_test)\n",
    "    accuracy = accuracy_score(y_test_final, y_pred)\n",
    "    \n",
    "    agg_return = combined.Return[y_test.index]\n",
    "    agg = pd.Series.tolist(agg_return)\n",
    "    \n",
    "    #Compute the actual stock return (regardless of time period) on a long only basis. i.e. we only capture return\n",
    "    #if the stock is predicted to go up, and we assume an all-in all-out scenario, meaning positive returns are \n",
    "    #cumulative.\n",
    "    stock_return = 1\n",
    "    for i in (0, len(y_pred)-1):\n",
    "        if y_pred[i] == \"Up\":\n",
    "            stock_return = stock_return * (1 + agg[i])\n",
    "    \n",
    "    ls_stock_return = 1\n",
    "    for i in (0, len(y_pred)-1):\n",
    "        if y_pred[i] == \"Up\":\n",
    "            ls_stock_return = ls_stock_return * (1 + agg[i])\n",
    "        if y_pred[i] == \"Down\":\n",
    "            ls_stock_return = ls_stock_return * (1 - agg[i])\n",
    "            \n",
    "            \n",
    "    indep_model_return.append(stock_return)\n",
    "    indep_model_ls_return.append(ls_stock_return)\n",
    "    \n",
    "    indep_model_accuracy.append(accuracy)\n",
    "    #print \"Ticker: %s, Accuracy: %f\" % (ticker, accuracy)\n"
   ]
  },
  {
   "cell_type": "markdown",
   "metadata": {
    "collapsed": true
   },
   "source": [
    "Helper function created below to observe the occurence of words in the tweet that is stored in the corpus_data_features_nd array for each of the stocks. Below shows an example of the last run stock and the feature vector that is used for the model. "
   ]
  },
  {
   "cell_type": "code",
   "execution_count": 227,
   "metadata": {
    "collapsed": false
   },
   "outputs": [
    {
     "name": "stdout",
     "output_type": "stream",
     "text": [
      "4 agn\n",
      "6 amp\n",
      "3 asset\n",
      "6 b\n",
      "3 bancorp\n",
      "8 bank\n",
      "6 bax\n",
      "6 blk\n",
      "3 boost\n",
      "5 bought\n",
      "4 breakdown\n",
      "2 bullish\n",
      "2 chartseer\n",
      "2 child\n",
      "2 china\n",
      "6 cma\n",
      "3 corp\n",
      "5 cut\n",
      "6 d\n",
      "5 earn\n",
      "3 exxonmobil\n",
      "7 g\n",
      "3 gcejz\n",
      "3 gi\n",
      "5 group\n",
      "6 gt\n",
      "15 ha\n",
      "4 high\n",
      "61 http\n",
      "2 increas\n",
      "2 intern\n",
      "3 invest\n",
      "2 jdnxh\n",
      "31 johnson\n",
      "2 k\n",
      "3 kbc\n",
      "3 khc\n",
      "6 liquid\n",
      "4 llc\n",
      "6 long\n",
      "3 maa\n",
      "5 manag\n",
      "3 mdt\n",
      "31 mead\n",
      "3 mellon\n",
      "64 mjn\n",
      "3 n\n",
      "3 new\n",
      "3 novemb\n",
      "2 nsrgi\n",
      "30 nutrit\n",
      "3 nv\n",
      "8 p\n",
      "3 pfe\n",
      "3 pm\n",
      "2 polici\n",
      "16 posit\n",
      "3 ppl\n",
      "6 profit\n",
      "5 pznskpuhru\n",
      "6 r\n",
      "4 ratio\n",
      "5 rt\n",
      "11 s\n",
      "2 sale\n",
      "4 setup\n",
      "8 share\n",
      "15 short\n",
      "2 shouldn\n",
      "4 sold\n",
      "7 stake\n",
      "8 stock\n",
      "63 t\n",
      "3 technic\n",
      "6 trade\n",
      "3 tsn\n",
      "3 tx\n",
      "3 viab\n",
      "5 w\n",
      "2 wa\n",
      "3 wolfofweedst\n",
      "3 yhoo\n",
      "3 york\n",
      "3 zc\n",
      "3 ztvz\n"
     ]
    }
   ],
   "source": [
    "vocab = vectorizer.get_feature_names()\n",
    "dist = np.sum(corpus_data_features_nd, axis=0)\n",
    "for tag, count in zip(vocab, dist):\n",
    "    print count, tag"
   ]
  },
  {
   "cell_type": "markdown",
   "metadata": {},
   "source": [
    "# Evaluation of Model"
   ]
  },
  {
   "cell_type": "markdown",
   "metadata": {},
   "source": [
    "The evaluation technique for this type of model would be to see if certain tweets will be able to predict future moves that are significant and produce a portfolio management strategy. For example, if a tweet relating to \"drug price\" against this stock (or even other stocks) that causes the model to predict a movement does indeed predict a movement. The magnitude of movement is not an important measure here, though the direction is important. Another metric that can be measured will be a model portfolio performance using this algorithm, whether it will \"beat\" a traditional risk free rate return.\n",
    "\n",
    "Plot histogram of the accuracy for each of the 500 stocks in S&P 500. Given the limitation of the Twitter API limiting the number of returns, we will not be able to asssess stocks that returns tweets only in the past few days (especially during weekends), as the stock price does not move. This resulted in stocks being predicted to go \"Up\", as our definiton of a stock price going up includes a flatline move. We plot this result in a histogram to see our assessment. "
   ]
  },
  {
   "cell_type": "code",
   "execution_count": 228,
   "metadata": {
    "collapsed": false
   },
   "outputs": [
    {
     "data": {
      "image/png": "[encoded data removed]",
      "text/plain": [
       "<matplotlib.figure.Figure at 0x112e691d0>"
      ]
     },
     "metadata": {},
     "output_type": "display_data"
    }
   ],
   "source": [
    "%matplotlib inline\n",
    "import matplotlib.pyplot as plt\n",
    "plt.hist(indep_model_accuracy)\n",
    "plt.title(\"Histogram of accuracy for all available S&P500 stock\")\n",
    "plt.xlabel(\"Accuracy Ratio\")\n",
    "plt.ylabel(\"Frequency\")\n",
    "plt.show()"
   ]
  },
  {
   "cell_type": "markdown",
   "metadata": {},
   "source": [
    "Although this provides one metric of accuracy, we also want to see the magnitude of each of the predictions although the model is not required to predict this. We will match the return for each of the accurate predictions, and provide the opposite return metric for the wrong prediction. We will first go with a long only strategy (which means if the model predicts an up move, we will go all in onto the strategy and produce a long on the stock for 5 minutes). The stock will then be exited until the next \"Up\" prediction where all the proceeds are re-invested.\n",
    "\n",
    "Below shows a histogram of the returns for the stocks in question above."
   ]
  },
  {
   "cell_type": "code",
   "execution_count": 229,
   "metadata": {
    "collapsed": false
   },
   "outputs": [
    {
     "name": "stdout",
     "output_type": "stream",
     "text": [
      "0.47641509434\n"
     ]
    },
    {
     "data": {
      "image/png": "[encoded data removed]",
      "text/plain": [
       "<matplotlib.figure.Figure at 0x112c7c290>"
      ]
     },
     "metadata": {},
     "output_type": "display_data"
    }
   ],
   "source": [
    "#count how many of the returns are actually larger than 1.00 over the time period and divide by length of vector\n",
    "print sum(i > 1.0 for i in indep_model_return)*1.0/len(indep_model_return)\n",
    "\n",
    "%matplotlib inline\n",
    "import matplotlib.pyplot as plt\n",
    "plt.hist(indep_model_return, bins=[0.95, 0.96, 0.97, 0.98, 0.99, 1.00, 1.01, 1.02, 1.03, 1.04, 1.05])\n",
    "plt.title(\"Histogram of return for each S&P500 stock using a Long Only strategy\")\n",
    "plt.xlabel(\"Return\")\n",
    "plt.ylabel(\"Frequency\")\n",
    "plt.show()"
   ]
  },
  {
   "cell_type": "markdown",
   "metadata": {},
   "source": [
    "Note that there is significant concentration around the 1.000 return range, i.e. meaning that there is no return. However, we need to keep in mind that we are looking at 5 minute interval data, and only within the test sample (15%) of any tweet. Given the fundamental difficulties in portfolio management to generate returns, our result above is not surprising. "
   ]
  },
  {
   "cell_type": "markdown",
   "metadata": {},
   "source": [
    "We try this same model with a long-short strategy. A long short strategy would be if the prediction is a downward move, then we will short the selected stock for 5 minutes and then exit the position (i.e. close the short position) and capture the downward movement. If the prediction is an upward move, we will long the selected stock for 5 minutes and then exist the position by selling. This does not take into account of borrowing costs which we believe to be immaterial for our purposes. "
   ]
  },
  {
   "cell_type": "markdown",
   "metadata": {},
   "source": [
    "Our above model looks at a strategy that longs or shorts one stock at a time. Let us extend this concept into a more traditonal portfolio management paradigm and look at whether we can trade in and out of various stocks that flash a bigger buy signal or a bigger sell signal. "
   ]
  },
  {
   "cell_type": "code",
   "execution_count": 231,
   "metadata": {
    "collapsed": false
   },
   "outputs": [
    {
     "name": "stdout",
     "output_type": "stream",
     "text": [
      "0.617924528302\n"
     ]
    },
    {
     "data": {
      "image/png": "[encoded data removed]",
      "text/plain": [
       "<matplotlib.figure.Figure at 0x111ed38d0>"
      ]
     },
     "metadata": {},
     "output_type": "display_data"
    }
   ],
   "source": [
    "#count how many of the returns are actually larger than 1.00 over the time period and divide by length of vector\n",
    "print sum(i > 1.0 for i in indep_model_ls_return)*1.0/len(indep_model_ls_return)\n",
    "\n",
    "%matplotlib inline\n",
    "import matplotlib.pyplot as plt\n",
    "plt.hist(indep_model_ls_return, bins=[0.95, 0.96, 0.97, 0.98, 0.99, 1.00, 1.01, 1.02, 1.03, 1.04, 1.05])\n",
    "plt.title(\"Histogram of return for each S&P500 stock using a Long Short strategy\")\n",
    "plt.xlabel(\"Long Short Return\")\n",
    "plt.ylabel(\"Frequency\")\n",
    "plt.show()"
   ]
  },
  {
   "cell_type": "markdown",
   "metadata": {},
   "source": [
    "# TFIDF and Other Models"
   ]
  },
  {
   "cell_type": "markdown",
   "metadata": {},
   "source": [
    "We will explore using other vectorizers for language processing models as well as other machine learning models to evaluate performance. We will not show all the various possibilities here, but will show an example below and summarize a few of the basic metrics for comparison in the conclusion section of this paper. "
   ]
  },
  {
   "cell_type": "code",
   "execution_count": 232,
   "metadata": {
    "collapsed": false
   },
   "outputs": [],
   "source": [
    "import pandas as pd\n",
    "import numpy as np\n",
    "\n",
    "import re, nltk\n",
    "from sklearn.feature_extraction.text import TfidfVectorizer        \n",
    "from nltk.stem.porter import PorterStemmer\n",
    "from sklearn.naive_bayes import GaussianNB\n",
    "from sklearn.neural_network import MLPClassifier\n",
    "\n",
    "from sklearn.cross_validation import train_test_split\n",
    "from sklearn.metrics import accuracy_score\n",
    "\n",
    "def find_closest_date(timepoint, time_series, add_time_delta_column=True):\n",
    "    deltas = np.abs(time_series - timepoint)\n",
    "    idx_closest_date = np.argmin(deltas)\n",
    "    res = {\"closest_date\": time_series.ix[idx_closest_date]}\n",
    "    idx = ['closest_date']\n",
    "    if add_time_delta_column:\n",
    "        res[\"closest_delta\"] = deltas[idx_closest_date]\n",
    "        idx.append('closest_delta')\n",
    "    return pd.Series(res, index=idx)\n",
    "\n",
    "#Create functions for tokenize and stemming and the count vectorizer\n",
    "stemmer = PorterStemmer()\n",
    "def stem_tokens(tokens, stemmer):\n",
    "    stemmed = []\n",
    "    for item in tokens:\n",
    "        stemmed.append(stemmer.stem(item))\n",
    "    return stemmed\n",
    "\n",
    "def tokenize(text):\n",
    "    text = re.sub(\"[^a-zA-Z]\", \" \", text)\n",
    "    tokens = nltk.word_tokenize(text)\n",
    "    stems = stem_tokens(tokens, stemmer)\n",
    "    return stems\n",
    "\n",
    "vectorizer = TfidfVectorizer(\n",
    "    analyzer = 'word',\n",
    "    tokenizer = tokenize,\n",
    "    lowercase = True,\n",
    "    stop_words = 'english',\n",
    "    max_features = 85\n",
    ")\n",
    "\n",
    "import nltk.data\n",
    "tokenizer = nltk.data.load('nltk:tokenizers/punkt/english.pickle')\n",
    "\n",
    "indep_model_accuracy = []\n",
    "indep_model_return = []\n",
    "indep_model_ls_return = []\n",
    "\n",
    "for i in range(0,300):\n",
    "    ticker = snp500.loc[snp500.index[i], 'Ticker symbol']\n",
    "    tweet_csv = ticker +'.csv'\n",
    "    stock_csv = ticker +'.us.txt'\n",
    "    tweets = pd.read_csv(tweet_csv, header=None)\n",
    "    stocks = pd.read_csv(stock_csv)\n",
    "    tweets.columns = ['timestamp', 'tweet']\n",
    "\n",
    "    stocks['Timestamp'] = stocks.Date.astype(str).str.cat(stocks.Time.astype(str), sep=' ')\n",
    "\n",
    "    #Convert to pandas date time format\n",
    "    stocks['Timestamp'] = pd.to_datetime(stocks['Timestamp']) \n",
    "    tweets['timestamp'] = pd.to_datetime(tweets['timestamp']) \n",
    "\n",
    "    stocks['PreviousClose'] = stocks.Close.shift(1)\n",
    "    stocks['Return'] = (stocks.Close/stocks.PreviousClose)-1\n",
    "    \n",
    "    tweets[['closest_timestamp', 'diff']] = tweets.timestamp.apply(\n",
    "                                          find_closest_date, args=[stocks.Timestamp])\n",
    "\n",
    "    combined = pd.merge(tweets, stocks, left_on=['closest_timestamp'], right_on=['Timestamp'])\n",
    "    combined['Prediction_Class'] = np.where(combined['Return']>0, 'Up', 'Down')\n",
    "    corpus_data_features = vectorizer.fit_transform(combined.tweet.tolist())\n",
    "    corpus_data_features_nd = corpus_data_features.toarray()\n",
    "    \n",
    "    #Break out of loop if the stock does not have historical tweets. This will be flagged based on if the close price\n",
    "    #is exactly the same as the last close price on the last tweet.\n",
    "    if combined.Close.iloc[0]==combined.Close.iloc[len(combined)-1]:\n",
    "        continue\n",
    "    \n",
    "    X_train, X_test, y_train, y_test  = train_test_split(\n",
    "        corpus_data_features_nd[0:len(combined)], \n",
    "        combined.Prediction_Class,\n",
    "        train_size=0.85)\n",
    "\n",
    "    gnb_model = MLPClassifier()\n",
    "    gnb_model = gnb_model.fit(X=X_train, y=y_train)\n",
    "    \n",
    "    y_test_final = pd.Series.tolist(y_test)\n",
    "    y_pred = gnb_model.predict(X_test)\n",
    "    accuracy = accuracy_score(y_test_final, y_pred)\n",
    "    \n",
    "    agg_return = combined.Return[y_test.index]\n",
    "    agg = pd.Series.tolist(agg_return)\n",
    "    \n",
    "    #Compute the actual stock return (regardless of time period) on a long only basis. i.e. we only capture return\n",
    "    #if the stock is predicted to go up, and we assume an all-in all-out scenario, meaning positive returns are \n",
    "    #cumulative.\n",
    "    stock_return = 1\n",
    "    for i in (0, len(y_pred)-1):\n",
    "        if y_pred[i] == \"Up\":\n",
    "            stock_return = stock_return * (1 + agg[i])\n",
    "    \n",
    "    ls_stock_return = 1\n",
    "    for i in (0, len(y_pred)-1):\n",
    "        if y_pred[i] == \"Up\":\n",
    "            ls_stock_return = ls_stock_return * (1 + agg[i])\n",
    "        if y_pred[i] == \"Down\":\n",
    "            ls_stock_return = ls_stock_return * (1 - agg[i])\n",
    "            \n",
    "            \n",
    "    indep_model_return.append(stock_return)\n",
    "    indep_model_ls_return.append(ls_stock_return)\n",
    "    \n",
    "    indep_model_accuracy.append(accuracy)\n",
    "    #print \"Ticker: %s, Accuracy: %f\" % (ticker, accuracy)"
   ]
  },
  {
   "cell_type": "code",
   "execution_count": 233,
   "metadata": {
    "collapsed": false
   },
   "outputs": [
    {
     "data": {
      "image/png": "[encoded data removed]",
      "text/plain": [
       "<matplotlib.figure.Figure at 0x113581b50>"
      ]
     },
     "metadata": {},
     "output_type": "display_data"
    }
   ],
   "source": [
    "%matplotlib inline\n",
    "import matplotlib.pyplot as plt\n",
    "plt.hist(indep_model_accuracy)\n",
    "plt.title(\"Histogram of accuracy for all available S&P500 stock\")\n",
    "plt.xlabel(\"Accuracy Ratio\")\n",
    "plt.ylabel(\"Frequency\")\n",
    "plt.show()"
   ]
  },
  {
   "cell_type": "code",
   "execution_count": 234,
   "metadata": {
    "collapsed": false
   },
   "outputs": [
    {
     "name": "stdout",
     "output_type": "stream",
     "text": [
      "0.466981132075\n"
     ]
    },
    {
     "data": {
      "image/png": "[encoded data removed]",
      "text/plain": [
       "<matplotlib.figure.Figure at 0x112e80690>"
      ]
     },
     "metadata": {},
     "output_type": "display_data"
    }
   ],
   "source": [
    "#count how many of the returns are actually larger than 1.00 over the time period and divide by length of vector\n",
    "print sum(i > 1.0 for i in indep_model_return)*1.0/len(indep_model_return)\n",
    "\n",
    "%matplotlib inline\n",
    "import matplotlib.pyplot as plt\n",
    "plt.hist(indep_model_return, bins=[0.95, 0.96, 0.97, 0.98, 0.99, 1.00, 1.01, 1.02, 1.03, 1.04, 1.05])\n",
    "plt.title(\"Histogram of return for each S&P500 stock using a Long Only strategy\")\n",
    "plt.xlabel(\"Return\")\n",
    "plt.ylabel(\"Frequency\")\n",
    "plt.show()"
   ]
  },
  {
   "cell_type": "code",
   "execution_count": 235,
   "metadata": {
    "collapsed": false
   },
   "outputs": [
    {
     "name": "stdout",
     "output_type": "stream",
     "text": [
      "0.674528301887\n"
     ]
    },
    {
     "data": {
      "image/png": "[encoded data removed]",
      "text/plain": [
       "<matplotlib.figure.Figure at 0x111bf3910>"
      ]
     },
     "metadata": {},
     "output_type": "display_data"
    }
   ],
   "source": [
    "#count how many of the returns are actually larger than 1.00 over the time period and divide by length of vector\n",
    "print sum(i > 1.0 for i in indep_model_ls_return)*1.0/len(indep_model_ls_return)\n",
    "\n",
    "%matplotlib inline\n",
    "import matplotlib.pyplot as plt\n",
    "plt.hist(indep_model_ls_return, bins=[0.95, 0.96, 0.97, 0.98, 0.99, 1.00, 1.01, 1.02, 1.03, 1.04, 1.05])\n",
    "plt.title(\"Histogram of return for each S&P500 stock using a Long Short strategy\")\n",
    "plt.xlabel(\"Long Short Return\")\n",
    "plt.ylabel(\"Frequency\")\n",
    "plt.show()"
   ]
  },
  {
   "cell_type": "markdown",
   "metadata": {},
   "source": [
    "The results appear to be more superior under the TFIDF pair and the use of a neural network model. "
   ]
  },
  {
   "cell_type": "markdown",
   "metadata": {},
   "source": [
    "Looking at the results, it appears that the results are markedly better on the long and short strategy - even under various other vectorizers and machine learning algorithms. This is most likely due to the fact that we now take into account of tweets that generate negative news/headlines, and allow the portfolio strategy to take advantage of this and short sell the stock. Note that borrowing costs for short selling is ignored in this case, as is the same for commissions for long the stock. We believe costs such as this is minimal and can be neglected. \n",
    "\n",
    "Let us now attempt to look at the results if we were to specify a specific arbitrary variable (both on the long and short side) before an actual long or short position is taken. If the return does not move above this threshold, then no trade is taken. "
   ]
  },
  {
   "cell_type": "code",
   "execution_count": 236,
   "metadata": {
    "collapsed": false
   },
   "outputs": [],
   "source": [
    "indep_model_accuracy = []\n",
    "indep_model_return = []\n",
    "indep_model_ls_return = []\n",
    "\n",
    "return_var = 0.001\n",
    "\n",
    "for i in range(0,300):\n",
    "    ticker = snp500.loc[snp500.index[i], 'Ticker symbol']\n",
    "    tweet_csv = ticker +'.csv'\n",
    "    stock_csv = ticker +'.us.txt'\n",
    "    tweets = pd.read_csv(tweet_csv, header=None)\n",
    "    stocks = pd.read_csv(stock_csv)\n",
    "    tweets.columns = ['timestamp', 'tweet']\n",
    "\n",
    "    stocks['Timestamp'] = stocks.Date.astype(str).str.cat(stocks.Time.astype(str), sep=' ')\n",
    "\n",
    "    #Convert to pandas date time format\n",
    "    stocks['Timestamp'] = pd.to_datetime(stocks['Timestamp']) \n",
    "    tweets['timestamp'] = pd.to_datetime(tweets['timestamp']) \n",
    "\n",
    "    stocks['PreviousClose'] = stocks.Close.shift(1)\n",
    "    stocks['Return'] = (stocks.Close/stocks.PreviousClose)-1\n",
    "    \n",
    "    tweets[['closest_timestamp', 'diff']] = tweets.timestamp.apply(\n",
    "                                          find_closest_date, args=[stocks.Timestamp])\n",
    "\n",
    "    combined = pd.merge(tweets, stocks, left_on=['closest_timestamp'], right_on=['Timestamp'])\n",
    "    combined['Prediction_Class'] = np.where(combined['Return']>return_var, 'Up', \n",
    "                                            np.where(combined['Return']<-return_var , 'Down', 'Flat'))\n",
    "    corpus_data_features = vectorizer.fit_transform(combined.tweet.tolist())\n",
    "    corpus_data_features_nd = corpus_data_features.toarray()\n",
    "    \n",
    "    #Break out of loop if the stock does not have historical tweets. This will be flagged based on if the close price\n",
    "    #is exactly the same as the last close price on the last tweet.\n",
    "    if combined.Close.iloc[0]==combined.Close.iloc[len(combined)-1]:\n",
    "        continue\n",
    "    \n",
    "    X_train, X_test, y_train, y_test  = train_test_split(\n",
    "        corpus_data_features_nd[0:len(combined)], \n",
    "        combined.Prediction_Class,\n",
    "        train_size=0.85)\n",
    "\n",
    "    gnb_model = GaussianNB()\n",
    "    gnb_model = gnb_model.fit(X=X_train, y=y_train)\n",
    "    \n",
    "    y_test_final = pd.Series.tolist(y_test)\n",
    "    y_pred = gnb_model.predict(X_test)\n",
    "    accuracy = accuracy_score(y_test_final, y_pred)\n",
    "    \n",
    "    agg_return = combined.Return[y_test.index]\n",
    "    agg = pd.Series.tolist(agg_return)\n",
    "    \n",
    "    #Compute the actual stock return (regardless of time period) on a long only basis. i.e. we only capture return\n",
    "    #if the stock is predicted to go up, and we assume an all-in all-out scenario, meaning positive returns are \n",
    "    #cumulative.\n",
    "    stock_return = 1\n",
    "    for i in (0, len(y_pred)-1):\n",
    "        if y_pred[i] == \"Up\":\n",
    "            stock_return = stock_return * (1 + agg[i])\n",
    "\n",
    "    \n",
    "    ls_stock_return = 1   \n",
    "    for i in (0, len(y_pred)-1):\n",
    "        if y_pred[i] == \"Up\":\n",
    "            ls_stock_return = ls_stock_return * (1 + agg[i])\n",
    "        if y_pred[i] == \"Down\":\n",
    "            ls_stock_return = ls_stock_return * (1 - agg[i])\n",
    "            \n",
    "    indep_model_return.append(stock_return)\n",
    "    indep_model_ls_return.append(ls_stock_return)\n",
    "    \n",
    "    indep_model_accuracy.append(accuracy)\n",
    "    #print \"Ticker: %s, Accuracy: %f\" % (ticker, accuracy)\n",
    "    "
   ]
  },
  {
   "cell_type": "code",
   "execution_count": 237,
   "metadata": {
    "collapsed": false
   },
   "outputs": [
    {
     "data": {
      "image/png": "[encoded data removed]",
      "text/plain": [
       "<matplotlib.figure.Figure at 0x112415710>"
      ]
     },
     "metadata": {},
     "output_type": "display_data"
    }
   ],
   "source": [
    "%matplotlib inline\n",
    "import matplotlib.pyplot as plt\n",
    "plt.hist(indep_model_accuracy)\n",
    "plt.title(\"Histogram of accuracy for all available S&P500 stock\")\n",
    "plt.xlabel(\"Accuracy Ratio\")\n",
    "plt.ylabel(\"Frequency\")\n",
    "plt.show()"
   ]
  },
  {
   "cell_type": "code",
   "execution_count": 238,
   "metadata": {
    "collapsed": false
   },
   "outputs": [
    {
     "name": "stdout",
     "output_type": "stream",
     "text": [
      "0.25\n"
     ]
    },
    {
     "data": {
      "image/png": "[encoded data removed]",
      "text/plain": [
       "<matplotlib.figure.Figure at 0x112a52a50>"
      ]
     },
     "metadata": {},
     "output_type": "display_data"
    }
   ],
   "source": [
    "#count how many of the returns are actually larger than 1.00 over the time period and divide by length of vector\n",
    "print sum(i > 1.0 for i in indep_model_return)*1.0/len(indep_model_return)\n",
    "\n",
    "%matplotlib inline\n",
    "import matplotlib.pyplot as plt\n",
    "plt.hist(indep_model_return, bins=[0.95, 0.96, 0.97, 0.98, 0.99, 1.00, 1.01, 1.02, 1.03, 1.04, 1.05])\n",
    "plt.title(\"Histogram of return for each S&P500 stock using a Long Only strategy\")\n",
    "plt.xlabel(\"Return\")\n",
    "plt.ylabel(\"Frequency\")\n",
    "plt.show()"
   ]
  },
  {
   "cell_type": "code",
   "execution_count": 239,
   "metadata": {
    "collapsed": false
   },
   "outputs": [
    {
     "name": "stdout",
     "output_type": "stream",
     "text": [
      "0.438679245283\n"
     ]
    },
    {
     "data": {
      "image/png": "[encoded data removed]",
      "text/plain": [
       "<matplotlib.figure.Figure at 0x112dd9c90>"
      ]
     },
     "metadata": {},
     "output_type": "display_data"
    }
   ],
   "source": [
    "print sum(i > 1.0 for i in indep_model_ls_return)*1.0/len(indep_model_ls_return)\n",
    "\n",
    "%matplotlib inline\n",
    "import matplotlib.pyplot as plt\n",
    "plt.hist(indep_model_ls_return, bins=[0.95, 0.96, 0.97, 0.98, 0.99, 1.00, 1.01, 1.02, 1.03, 1.04, 1.05])\n",
    "plt.title(\"Histogram of return for each S&P500 stock using a Long Only strategy\")\n",
    "plt.xlabel(\"Return\")\n",
    "plt.ylabel(\"Frequency\")\n",
    "plt.show()"
   ]
  },
  {
   "cell_type": "markdown",
   "metadata": {},
   "source": [
    "The results are less impressive compared to the baseline models. This is most likely due to the lack of data (i.e. specific news that causes spikes in stock prices tend not to occur frequently and may not be captured with the current set of data). Furthermore, the implementation of a specific arbitrary threshold might not apply consistently well across all stocks. Some stocks tend to react more or less depending on existing information and expectations. "
   ]
  },
  {
   "cell_type": "markdown",
   "metadata": {},
   "source": [
    "# Aggregate Model"
   ]
  },
  {
   "cell_type": "markdown",
   "metadata": {},
   "source": [
    "We turn our attention to a more sophisticated model where it will encompass both language processing as well as other factors that drive the machine learning model. In this case, we explore using factors like the sector the stock is in, as well as the ticker itself, to train the model. Once the model is trained as a whole, the same long only strategy and long-short strategy is employed and we observe the various metrics to see whether this model performs better than our individual/independent stock models. "
   ]
  },
  {
   "cell_type": "code",
   "execution_count": 225,
   "metadata": {
    "collapsed": false
   },
   "outputs": [
    {
     "name": "stdout",
     "output_type": "stream",
     "text": [
      "0.8\n",
      "1.00268071136\n",
      "1.00027739251\n"
     ]
    }
   ],
   "source": [
    "agg_model_accuracy = []\n",
    "agg_model_return = []\n",
    "agg_model_ls_return = []\n",
    "\n",
    "initial_features = np.empty((0,87), int)\n",
    "initial_returns = np.empty((0,1))\n",
    "\n",
    "from sklearn import preprocessing\n",
    "import numpy as np\n",
    "\n",
    "for i in range(0,300):\n",
    "    ticker = snp500.loc[snp500.index[i], 'Ticker symbol']\n",
    "    gics_sector = snp500.loc[snp500.index[i], 'GICS Sector']\n",
    "    \n",
    "    tweet_csv = ticker +'.csv'\n",
    "    stock_csv = ticker +'.us.txt'\n",
    "    tweets = pd.read_csv(tweet_csv, header=None)\n",
    "    stocks = pd.read_csv(stock_csv)\n",
    "    tweets.columns = ['timestamp', 'tweet']\n",
    "\n",
    "    stocks['Timestamp'] = stocks.Date.astype(str).str.cat(stocks.Time.astype(str), sep=' ')\n",
    "\n",
    "    #Convert to pandas date time format\n",
    "    stocks['Timestamp'] = pd.to_datetime(stocks['Timestamp']) \n",
    "    tweets['timestamp'] = pd.to_datetime(tweets['timestamp']) \n",
    "\n",
    "    stocks['PreviousClose'] = stocks.Close.shift(1)\n",
    "    stocks['Return'] = (stocks.Close/stocks.PreviousClose)-1\n",
    "    \n",
    "    tweets[['closest_timestamp', 'diff']] = tweets.timestamp.apply(\n",
    "                                          find_closest_date, args=[stocks.Timestamp])\n",
    "\n",
    "    combined = pd.merge(tweets, stocks, left_on=['closest_timestamp'], right_on=['Timestamp'])\n",
    "    combined['Prediction_Class'] = np.where(combined['Return']>0, 'Up', 'Down')\n",
    "    corpus_data_features = vectorizer.fit_transform(combined.tweet.tolist())\n",
    "    corpus_data_features_nd = corpus_data_features.toarray()\n",
    "    corpus_data_features_nd = pd.DataFrame(corpus_data_features_nd)\n",
    "    #Break out of loop if the stock does not have historical tweets. This will be flagged based on if the close price\n",
    "    #is exactly the same as the last close price on the last tweet.\n",
    "    if combined.Close.iloc[0]==combined.Close.iloc[len(combined)-1]:\n",
    "        continue\n",
    "        \n",
    "    #Add in the ticker symbol as well as the stock sector into the corpus_data_features_nd data frame\n",
    "    corpus_data_features_nd['sector'] = gics_sector\n",
    "    corpus_data_features_nd['ticker'] = ticker\n",
    "    \n",
    "    label = preprocessing.LabelEncoder() \n",
    "    ticker = preprocessing.LabelEncoder()\n",
    "    corpus_data_features_nd.sector = label.fit_transform(corpus_data_features_nd.sector)\n",
    "    corpus_data_features_nd.ticker = ticker.fit_transform(corpus_data_features_nd.ticker)\n",
    "    \n",
    "    combined_features = corpus_data_features_nd\n",
    "    combined_features = np.vstack([initial_features, combined_features])\n",
    "    combined_returns = pd.DataFrame(combined.Prediction_Class)\n",
    "    combined_returns = np.vstack([initial_returns, combined_returns])\n",
    "\n",
    "    X = pd.DataFrame(combined_features)\n",
    "    y = pd.DataFrame(combined_returns)\n",
    "\n",
    "X_train, X_test, y_train, y_test  = train_test_split(\n",
    "    X, \n",
    "    y,\n",
    "    train_size=0.85)\n",
    "\n",
    "        \n",
    "            \n",
    "gnb_model = MLPClassifier()\n",
    "gnb_model = gnb_model.fit(X=X_train, y=y_train)\n",
    "\n",
    "y_pred = gnb_model.predict(X_test)\n",
    "accuracy = accuracy_score(y_test, y_pred)\n",
    "print accuracy\n",
    "\n",
    "agg_return = combined.Return[y_test.index]    \n",
    "agg = pd.Series.tolist(agg_return)\n",
    "\n",
    "stock_return = 1\n",
    "for i in (0,len(agg_return)-1):\n",
    "    if y_pred[i] == \"Up\":\n",
    "        stock_return = stock_return * (1 + agg[i])\n",
    "\n",
    "ls_stock_return = 1\n",
    "for i in (0,len(agg_return)-1):\n",
    "    if y_pred[i] == \"Up\":\n",
    "        ls_stock_return = ls_stock_return * (1 + agg[i])\n",
    "    if y_pred[i] == \"Down\":\n",
    "        ls_stock_return = ls_stock_return * (1 - agg[i])\n",
    "\n",
    "print ls_stock_return\n",
    "print stock_return"
   ]
  },
  {
   "cell_type": "markdown",
   "metadata": {},
   "source": [
    "# Conclusion"
   ]
  },
  {
   "cell_type": "markdown",
   "metadata": {},
   "source": [
    "There are various and endless possibilities for exploration in the realm of using Twitter data, along with other market factors such as sector, in the constructs of portfolio strategy and management. "
   ]
  },
  {
   "cell_type": "markdown",
   "metadata": {},
   "source": [
    "# References"
   ]
  },
  {
   "cell_type": "markdown",
   "metadata": {},
   "source": [
    "[1] Stock Prediction Using Twitter Sentiment Analysis by Anshul Mittal/Arpit Goel"
   ]
  },
  {
   "cell_type": "code",
   "execution_count": null,
   "metadata": {
    "collapsed": true
   },
   "outputs": [],
   "source": []
  }
 ],
 "metadata": {
  "kernelspec": {
   "display_name": "Python 2",
   "language": "python",
   "name": "python2"
  },
  "language_info": {
   "codemirror_mode": {
    "name": "ipython",
    "version": 2
   },
   "file_extension": ".py",
   "mimetype": "text/x-python",
   "name": "python",
   "nbconvert_exporter": "python",
   "pygments_lexer": "ipython2",
   "version": "2.7.8"
  }
 },
 "nbformat": 4,
 "nbformat_minor": 0
}
